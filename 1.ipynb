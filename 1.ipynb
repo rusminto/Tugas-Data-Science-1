import pycaret
import numpy as np
import pandas as pd
